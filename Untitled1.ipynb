{
  "nbformat": 4,
  "nbformat_minor": 0,
  "metadata": {
    "colab": {
      "name": "Untitled1.ipynb",
      "provenance": []
    },
    "kernelspec": {
      "name": "python3",
      "display_name": "Python 3"
    }
  },
  "cells": [
    {
      "cell_type": "code",
      "metadata": {
        "id": "wtf-H7C-IKQw",
        "colab_type": "code",
        "colab": {}
      },
      "source": [
        "#"
      ],
      "execution_count": 0,
      "outputs": []
    },
    {
      "cell_type": "code",
      "metadata": {
        "id": "H_lTbMyeNcNX",
        "colab_type": "code",
        "colab": {}
      },
      "source": [
        "korean_drama = \"itaewon class\" #電影名稱\n",
        "release_year = \"2020\" #放映年份\n",
        "production_country = \"korea\" #製作國家\n",
        "language = \"korean\" #語言\n",
        "\n",
        "director = \"kim sung yoon\" #導演\n",
        "star_1 = \"park seo jun\" #主要演員\n",
        "star_2 = \"kim da mi\" #主要演員\n",
        "star_3 = \"gwon na ra\" #主要演員\n",
        "star_4 = \"yoo jae myung\" #主要演員"
      ],
      "execution_count": 0,
      "outputs": []
    }
  ]
}