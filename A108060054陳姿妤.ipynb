{
  "nbformat": 4,
  "nbformat_minor": 0,
  "metadata": {
    "colab": {
      "name": "A108060054陳姿妤.ipynb",
      "provenance": []
    },
    "kernelspec": {
      "name": "python3",
      "display_name": "Python 3"
    }
  },
  "cells": [
    {
      "cell_type": "code",
      "metadata": {
        "id": "i4kHcvgt1Z4U",
        "colab_type": "code",
        "colab": {
          "base_uri": "https://localhost:8080/",
          "height": 472
        },
        "outputId": "6a0874fa-715a-4c25-9b04-08e601b78778"
      },
      "source": [
        "# 聊天機器人自我介紹\n",
        "print(\"哈囉。我是Zyxo 64。我是一個聊天機器人。\")\n",
        "print(\"我喜歡動物，也喜歡聊食物。\")\n",
        "\n",
        "# 取得使用者名字\n",
        "name = input(\"你叫什麼名字？: \")\n",
        "\n",
        "# 打招呼\n",
        "print(\"你好\", name, \"很高興認識你\")\n",
        "\n",
        "# 從使用者取得今年年份\n",
        "year = input(\"我記不太清楚日期。今年是幾年？： \")\n",
        "print(\"好的，我覺得沒錯。謝謝！\")\n",
        "\n",
        "# 請使用者猜年齡\n",
        "myage = input(\"你能猜出我的年齡嗎？ - 輸入一個數字： \")\n",
        "print(\"沒錯，你猜對了。我\", myage)\n",
        "\n",
        "# 計算聊天機器人滿100歲的年份\n",
        "myage = int(myage)\n",
        "nyears = 100 - myage\n",
        "print(\"我再\", nyears, \"年就滿100歲了。\")\n",
        "print(\"到時候是\", int(year) + nyears) \n",
        "# 將今年年份轉換為整數\n",
        "\n",
        "# 食物話題\n",
        "print(\"我喜歡巧克力，也喜歡嘗試各種新食物。\")\n",
        "food = input(\"你呢。你最喜歡的食物是什麼？： \")\n",
        "print(\"我也喜歡\", food)\n",
        "question = \"你多久吃一次\" + food + \"?: \"\n",
        "howoften = input(question)\n",
        "print(\"真有趣。不知道這樣對健康好不好！\")\n",
        "\n",
        "# 動物話題\n",
        "animal = input(\"我最喜歡的動物是長頸鹿。你呢?； \")\n",
        "print(animal, \"! 我不喜歡。\")\n",
        "print(\"不知道\", animal, \"喜不喜歡吃\", food, \"?\")\n",
        "\n",
        "# 關於心情的對話\n",
        "feeling = input(\"你今天覺得如何？； \")\n",
        "print(\"為什麼你現在覺得\", feeling, \"呢？\")\n",
        "reason = input(\"請告訴我： \")\n",
        "print(\"我知道了。謝謝分享。\")\n",
        "\n",
        "# 道別\n",
        "print(\"今天事情真多！\")\n",
        "print(\"我累到無法繼續聊天了，之後再聊。\")\n",
        "print(\"再見\", name, \"我喜歡跟你聊天！\")\n"
      ],
      "execution_count": 5,
      "outputs": [
        {
          "output_type": "stream",
          "text": [
            "哈囉。我是Zyxo 64。我是一個聊天機器人。\n",
            "我喜歡動物，也喜歡聊食物。\n",
            "你叫什麼名字？: chen\n",
            "你好 chen 很高興認識你\n",
            "我記不太清楚日期。今年是幾年？： 1\n",
            "好的，我覺得沒錯。謝謝！\n",
            "你能猜出我的年齡嗎？ - 輸入一個數字： 1\n",
            "沒錯，你猜對了。我 1\n",
            "我再 99 年就滿100歲了。\n",
            "到時候是 100\n",
            "我喜歡巧克力，也喜歡嘗試各種新食物。\n",
            "你呢。你最喜歡的食物是什麼？： apple\n",
            "我也喜歡 apple\n",
            "你多久吃一次apple?: 10 days\n",
            "真有趣。不知道這樣對健康好不好！\n",
            "我最喜歡的動物是長頸鹿。你呢?； cat\n",
            "cat ! 我不喜歡。\n",
            "不知道 cat 喜不喜歡吃 apple ?\n",
            "你今天覺得如何？； fine\n",
            "為什麼你現在覺得 fine 呢？\n",
            "請告訴我： happy\n",
            "我知道了。謝謝分享。\n",
            "今天事情真多！\n",
            "我累到無法繼續聊天了，之後再聊。\n",
            "再見 chen 我喜歡跟你聊天！\n"
          ],
          "name": "stdout"
        }
      ]
    }
  ]
}