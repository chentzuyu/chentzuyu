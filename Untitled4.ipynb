{
  "nbformat": 4,
  "nbformat_minor": 0,
  "metadata": {
    "colab": {
      "name": "Untitled4.ipynb",
      "provenance": []
    },
    "kernelspec": {
      "name": "python3",
      "display_name": "Python 3"
    }
  },
  "cells": [
    {
      "cell_type": "code",
      "metadata": {
        "id": "GtCrvjCxYxxM",
        "colab_type": "code",
        "colab": {
          "base_uri": "https://localhost:8080/",
          "height": 51
        },
        "outputId": "be8d9856-e61e-4eae-e3dd-f57fa92f1d3e"
      },
      "source": [
        "score=int(input(\"請輸入成績\"))\n",
        "if score < 60:\n",
        "  print(\"要認真點喔\")\n",
        "else:\n",
        "  print(\"不錯喔\")\n",
        "  if 80 > score >= 60:\n",
        "    print(\"很棒喔\")\n",
        "  else:\n",
        "      print(\"有及格\")"
      ],
      "execution_count": 6,
      "outputs": [
        {
          "output_type": "stream",
          "text": [
            "請輸入成績55\n",
            "要認真點喔\n"
          ],
          "name": "stdout"
        }
      ]
    }
  ]
}